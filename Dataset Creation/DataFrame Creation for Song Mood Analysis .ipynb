{
 "cells": [
  {
   "cell_type": "markdown",
   "id": "b8fa55a6",
   "metadata": {},
   "source": [
    "# Mood Analysis DataSet Creation\n",
    "## Import Packages"
   ]
  },
  {
   "cell_type": "code",
   "execution_count": 2,
   "id": "2ed53b4a",
   "metadata": {},
   "outputs": [],
   "source": [
    "import pandas as pd\n",
    "import spotipy\n",
    "from spotipy.oauth2 import SpotifyClientCredentials\n",
    "import json\n",
    "import time"
   ]
  },
  {
   "cell_type": "markdown",
   "id": "dc31a28b",
   "metadata": {},
   "source": [
    "## Set Credentials"
   ]
  },
  {
   "cell_type": "code",
   "execution_count": 3,
   "id": "83c75760",
   "metadata": {},
   "outputs": [],
   "source": [
    "client_id = 'ab66d93ec93a44f1969bb98221e40c1e'\n",
    "client_secret = 'e6b14254fb4a44069c6f45e58cea5c82'\n",
    "\n",
    "client_credentials_manager = SpotifyClientCredentials(client_id=client_id, client_secret=client_secret)\n",
    "sp = spotipy.Spotify(client_credentials_manager=client_credentials_manager)"
   ]
  },
  {
   "cell_type": "markdown",
   "id": "cbe47daa",
   "metadata": {},
   "source": [
    "## Creating functions needed to make dataframe\n",
    "### Creating function to get all track IDs from a playlist"
   ]
  },
  {
   "cell_type": "code",
   "execution_count": null,
   "id": "e6693949",
   "metadata": {},
   "outputs": [],
   "source": [
    "def get_trackids (playlist_id):\n",
    "    track_ids = []\n",
    "    playlist = sp.playlist_tracks(playlist_id)\n",
    "    for item in playlist['items']:\n",
    "        track = item['track']\n",
    "        track_ids.append(track['id'])\n",
    "    return track_ids"
   ]
  },
  {
   "cell_type": "markdown",
   "id": "9dce49b3",
   "metadata": {},
   "source": [
    "### The spotipy API will only allow you to pull a maximum of 100 tracks at a time. To get around this, I made another function that is offset by 100. This allows me to get the second half of some of the playlists. As I am capping my dataset at 200 tracks per mood, this works fine. "
   ]
  },
  {
   "cell_type": "code",
   "execution_count": null,
   "id": "ccb70af5",
   "metadata": {},
   "outputs": [],
   "source": [
    "def get_trackids_mas (playlist_id):\n",
    "    track_ids = []\n",
    "    playlist = sp.playlist_tracks(playlist_id, offset=100)\n",
    "    for item in playlist['items']:\n",
    "        track = item['track']\n",
    "        track_ids.append(track['id'])\n",
    "    return track_ids"
   ]
  },
  {
   "cell_type": "markdown",
   "id": "aa5f0c31",
   "metadata": {},
   "source": [
    "### Creating a function to grab all the info I want from each track."
   ]
  },
  {
   "cell_type": "code",
   "execution_count": null,
   "id": "8285a8e6",
   "metadata": {},
   "outputs": [],
   "source": [
    "def get_track_features(track_id):\n",
    "    track_info = sp.track(track_id)\n",
    "    track_features = sp.audio_features(track_id)\n",
    "\n",
    "    name = track_info['name']\n",
    "    track_id = track_id\n",
    "    album = track_info['album']['name']\n",
    "    artist = track_info['album']['artists'][0]['name']\n",
    "    artist_id = track_info['album']['artists'][0]['id']\n",
    "    artist_genre = sp.artist(artist_id)['genres']\n",
    "    length = track_info['duration_ms']\n",
    "    popularity = track_info['popularity']\n",
    "    explicit = track_info['explicit']\n",
    "\n",
    "    danceability = track_features[0]['danceability']\n",
    "    energy = track_features[0]['energy']\n",
    "    key = track_features[0]['key']\n",
    "    loudness = track_features[0]['loudness']\n",
    "    mode = track_features[0]['mode']\n",
    "    speechiness = track_features[0]['speechiness']\n",
    "    acousticness = track_features[0]['acousticness']\n",
    "    instrumentalness = track_features[0]['instrumentalness']\n",
    "    liveness = track_features[0]['liveness']\n",
    "    valence = track_features[0]['valence']\n",
    "    tempo = track_features[0]['tempo']\n",
    "\n",
    "    track_data = [name, track_id, album, artist, artist_id, artist_genre, length, popularity, explicit, danceability, energy, key, loudness, mode, speechiness, acousticness, instrumentalness, liveness, valence, tempo]\n",
    "\n",
    "    return track_data"
   ]
  },
  {
   "cell_type": "markdown",
   "id": "1c1ac7b7",
   "metadata": {},
   "source": [
    "### Creating a function that will run a for loop for grabbing the features."
   ]
  },
  {
   "cell_type": "code",
   "execution_count": null,
   "id": "f4793d96",
   "metadata": {},
   "outputs": [],
   "source": [
    "def playlist_info(id_list):\n",
    "    track_list = []\n",
    "    for item in range(len(id_list)):\n",
    "        time.sleep(.3)\n",
    "        track_data = get_track_features(id_list[item])\n",
    "        track_list.append(track_data)\n",
    "    return track_list"
   ]
  },
  {
   "cell_type": "markdown",
   "id": "954ed28c",
   "metadata": {},
   "source": [
    "## Creating Dataframes for Each Mood\n",
    "### Happy Vibes\n",
    "### I would like to have 200 tracks for each mood. For the happy vibes mood, the playlists provided by spotify were less than 200. So, I combined multiple playlists together. "
   ]
  },
  {
   "cell_type": "code",
   "execution_count": null,
   "id": "95559e9d",
   "metadata": {},
   "outputs": [],
   "source": [
    "mood_booster_id = 'spotify:playlist:37i9dQZF1DX3rxVfibe1L0'\n",
    "MB_tracks = get_trackids(mood_booster_id)\n",
    "MB_tracks_info = playlist_info(MB_tracks)\n",
    "Mood_Booster_Playlist = pd.DataFrame(MB_tracks_info, columns = ['Name', \"Track_ID\", \"Album\", \"Artist\", \"Artist_ID\", \"Artist_Genre\", \"Duration_ms\", \"Popularity\", \"Explicit\", \"Danceability\", \"Energy\", \"Key\", \"Loudness\", \"Mode\", \"Speechiness\", \"Acousticness\", \"Instrumentalness\", \"Liveness\", \"Valence\", \"Tempo\"])\n",
    "Mood_Booster_Playlist['Playlist'] = 'Mood_Booster'\n",
    "Mood_Booster_Playlist"
   ]
  },
  {
   "cell_type": "code",
   "execution_count": null,
   "id": "af2780f4",
   "metadata": {},
   "outputs": [],
   "source": [
    "have_a_great_dayID = '37i9dQZF1DX7KNKjOK0o75'\n",
    "Gday_tracks = get_trackids(have_a_great_dayID)\n",
    "Gday_tracks_info = playlist_info(Gday_tracks)\n",
    "Have_A_Great_Day_Playlist = pd.DataFrame(Gday_tracks_info, columns = ['Name', \"Track_ID\", \"Album\", \"Artist\", \"Artist_ID\", \"Artist_Genre\", \"Duration_ms\", \"Popularity\", \"Explicit\", \"Danceability\", \"Energy\", \"Key\", \"Loudness\", \"Mode\", \"Speechiness\", \"Acousticness\", \"Instrumentalness\", \"Liveness\", \"Valence\", \"Tempo\"])\n",
    "Have_A_Great_Day_Playlist['Playlist'] = 'Have_A_Great_Day'\n",
    "Have_A_Great_Day_Playlist"
   ]
  },
  {
   "cell_type": "code",
   "execution_count": null,
   "id": "2a1ec405",
   "metadata": {},
   "outputs": [],
   "source": [
    "good_vibes_id = 'spotify:playlist:37i9dQZF1DWYBO1MoTDhZI'\n",
    "Gvibes_tracks = get_trackids(good_vibes_id)\n",
    "Gvibes_tracks_info = playlist_info(Gvibes_tracks)\n",
    "Good_Vibes_Playlist = pd.DataFrame(Gvibes_tracks_info, columns = ['Name', \"Track_ID\", \"Album\", \"Artist\", \"Artist_ID\", \"Artist_Genre\", \"Duration_ms\", \"Popularity\", \"Explicit\", \"Danceability\", \"Energy\", \"Key\", \"Loudness\", \"Mode\", \"Speechiness\", \"Acousticness\", \"Instrumentalness\", \"Liveness\", \"Valence\", \"Tempo\"])\n",
    "Good_Vibes_Playlist['Playlist'] = 'Good_Vibes'\n",
    "Good_Vibes_Playlist"
   ]
  },
  {
   "cell_type": "code",
   "execution_count": null,
   "id": "2beff2c9",
   "metadata": {},
   "outputs": [],
   "source": [
    "happy_vibes_comb = pd.concat([Mood_Booster_Playlist, Have_A_Great_Day_Playlist, Good_Vibes_Playlist])\n",
    "happy_vibes_comb"
   ]
  },
  {
   "cell_type": "code",
   "execution_count": null,
   "id": "6e3cf1aa",
   "metadata": {},
   "outputs": [],
   "source": [
    "happy_vibes_no_dupes = happy_vibes_comb.drop_duplicates(subset=['Track_ID'], keep='first')\n",
    "happy_vibes_no_dupes"
   ]
  },
  {
   "cell_type": "code",
   "execution_count": null,
   "id": "e916fc3e",
   "metadata": {},
   "outputs": [],
   "source": [
    "Happy_Vibes = happy_vibes_no_dupes[0:200]\n",
    "Happy_Vibes "
   ]
  },
  {
   "cell_type": "code",
   "execution_count": null,
   "id": "e53004c3",
   "metadata": {},
   "outputs": [],
   "source": [
    "Happy_Vibes.to_csv('happy_vibes.csv')"
   ]
  },
  {
   "cell_type": "markdown",
   "id": "60a4421b",
   "metadata": {},
   "source": [
    "### Chill Vibes"
   ]
  },
  {
   "cell_type": "code",
   "execution_count": null,
   "id": "94d6a0d8",
   "metadata": {},
   "outputs": [],
   "source": [
    "chill_tracks_id = 'spotify:playlist:37i9dQZF1DX6VdMW310YC7'\n",
    "chill_tracks = get_trackids(chill_tracks_id)\n",
    "chill_tracks_info = playlist_info(chill_tracks)\n",
    "Chill_Vibes_Playlist = pd.DataFrame(chill_tracks_info, columns = ['Name', \"Track_ID\", \"Album\", \"Artist\", \"Artist_ID\", \"Artist_Genre\", \"Duration_ms\", \"Popularity\", \"Explicit\", \"Danceability\", \"Energy\", \"Key\", \"Loudness\", \"Mode\", \"Speechiness\", \"Acousticness\", \"Instrumentalness\", \"Liveness\", \"Valence\", \"Tempo\"])\n",
    "Chill_Vibes_Playlist['Playlist'] = 'Chill_Tracks'\n",
    "Chill_Vibes_Playlist"
   ]
  },
  {
   "cell_type": "code",
   "execution_count": null,
   "id": "871a003a",
   "metadata": {},
   "outputs": [],
   "source": [
    "chill_tracks2 = get_trackids_mas(chill_tracks_id)\n",
    "chill_tracks_info2 = playlist_info(chill_tracks2)\n",
    "Chill_Vibes_Playlist2 = pd.DataFrame(chill_tracks_info2, columns = ['Name', \"Track_ID\", \"Album\", \"Artist\", \"Artist_ID\", \"Artist_Genre\", \"Duration_ms\", \"Popularity\", \"Explicit\", \"Danceability\", \"Energy\", \"Key\", \"Loudness\", \"Mode\", \"Speechiness\", \"Acousticness\", \"Instrumentalness\", \"Liveness\", \"Valence\", \"Tempo\"])\n",
    "Chill_Vibes_Playlist2['Playlist'] = 'Chill_Tracks'\n",
    "Chill_Vibes_Playlist2"
   ]
  },
  {
   "cell_type": "code",
   "execution_count": null,
   "id": "5126a49c",
   "metadata": {},
   "outputs": [],
   "source": [
    "full_chill_vibes = pd.concat([Chill_Vibes_Playlist, Chill_Vibes_Playlist2])\n",
    "full_chill_vibes"
   ]
  },
  {
   "cell_type": "code",
   "execution_count": null,
   "id": "ac031143",
   "metadata": {},
   "outputs": [],
   "source": [
    "full_chill_vibes.to_csv('chill_vibes.csv')"
   ]
  },
  {
   "cell_type": "markdown",
   "id": "a380f66a",
   "metadata": {},
   "source": [
    "### Sad Vibes"
   ]
  },
  {
   "cell_type": "code",
   "execution_count": null,
   "id": "eeb30a62",
   "metadata": {},
   "outputs": [],
   "source": [
    "Life_Sucks_id = '37i9dQZF1DX3YSRoSdA634'\n",
    "LS_tracks1 = get_trackids(Life_Sucks_id)\n",
    "LS_tracks2 = get_trackids_mas(Life_Sucks_id)\n",
    "LS_combined = LS_tracks1 + LS_tracks2"
   ]
  },
  {
   "cell_type": "code",
   "execution_count": null,
   "id": "aa42498f",
   "metadata": {},
   "outputs": [],
   "source": [
    "LS_track_info = playlist_info(LS_combined)\n",
    "Life_Sucks_Playlist = pd.DataFrame(LS_track_info, columns = ['Name', \"Track_ID\", \"Album\", \"Artist\", \"Artist_ID\", \"Artist_Genre\", \"Duration_ms\", \"Popularity\", \"Explicit\", \"Danceability\", \"Energy\", \"Key\", \"Loudness\", \"Mode\", \"Speechiness\", \"Acousticness\", \"Instrumentalness\", \"Liveness\", \"Valence\", \"Tempo\"])\n",
    "Life_Sucks_Playlist['Playlist'] = 'Life_Sucks'\n",
    "Life_Sucks_Playlist"
   ]
  },
  {
   "cell_type": "code",
   "execution_count": null,
   "id": "6e598040",
   "metadata": {},
   "outputs": [],
   "source": [
    "Life_Sucks_Playlist.to_csv(\"sad_vibes.csv\")"
   ]
  },
  {
   "cell_type": "markdown",
   "id": "73e7c6ea",
   "metadata": {},
   "source": [
    "### Romance Vibes"
   ]
  },
  {
   "cell_type": "code",
   "execution_count": null,
   "id": "b6c20146",
   "metadata": {},
   "outputs": [],
   "source": [
    "u_n_me_id = \"spotify:playlist:37i9dQZF1DX6mvEU1S6INL\"\n",
    "u_n_me_tracks = get_trackids(u_n_me_id)\n",
    "u_n_me_tracks_info = playlist_info(u_n_me_tracks)\n",
    "u_n_me_Playlist = pd.DataFrame(u_n_me_tracks_info, columns = ['Name', \"Track_ID\", \"Album\", \"Artist\", \"Artist_ID\", \"Artist_Genre\", \"Duration_ms\", \"Popularity\", \"Explicit\", \"Danceability\", \"Energy\", \"Key\", \"Loudness\", \"Mode\", \"Speechiness\", \"Acousticness\", \"Instrumentalness\", \"Liveness\", \"Valence\", \"Tempo\"])\n",
    "u_n_me_Playlist['Playlist'] = 'You_and_Me'\n",
    "u_n_me_Playlist"
   ]
  },
  {
   "cell_type": "code",
   "execution_count": null,
   "id": "3935d7e2",
   "metadata": {},
   "outputs": [],
   "source": [
    "love_letter_id = \"spotify:playlist:37i9dQZF1DX38lOuCWlLV1\"\n",
    "love_letter_tracks = get_trackids(love_letter_id)\n",
    "love_letter_tracks_info = playlist_info(love_letter_tracks)\n",
    "love_letter_Playlist = pd.DataFrame(love_letter_tracks_info, columns = ['Name', \"Track_ID\", \"Album\", \"Artist\", \"Artist_ID\", \"Artist_Genre\", \"Duration_ms\", \"Popularity\", \"Explicit\", \"Danceability\", \"Energy\", \"Key\", \"Loudness\", \"Mode\", \"Speechiness\", \"Acousticness\", \"Instrumentalness\", \"Liveness\", \"Valence\", \"Tempo\"])\n",
    "love_letter_Playlist['Playlist'] = 'Love_Letter'\n",
    "love_letter_Playlist"
   ]
  },
  {
   "cell_type": "code",
   "execution_count": null,
   "id": "b1f0a3a7",
   "metadata": {},
   "outputs": [],
   "source": [
    "silk_sheets_id = \"spotify:playlist:37i9dQZF1DWVGy1YP1ojM5\"\n",
    "silk_sheets_tracks = get_trackids(silk_sheets_id)\n",
    "silk_sheets_tracks_info = playlist_info(silk_sheets_tracks)\n",
    "silk_sheets_Playlist = pd.DataFrame(silk_sheets_tracks_info, columns = ['Name', \"Track_ID\", \"Album\", \"Artist\", \"Artist_ID\", \"Artist_Genre\", \"Duration_ms\", \"Popularity\", \"Explicit\", \"Danceability\", \"Energy\", \"Key\", \"Loudness\", \"Mode\", \"Speechiness\", \"Acousticness\", \"Instrumentalness\", \"Liveness\", \"Valence\", \"Tempo\"])\n",
    "silk_sheets_Playlist['Playlist'] = 'Silk_Sheets'\n",
    "silk_sheets_Playlist"
   ]
  },
  {
   "cell_type": "code",
   "execution_count": null,
   "id": "6ff8426a",
   "metadata": {},
   "outputs": [],
   "source": [
    "rom_comb = pd.concat([u_n_me_Playlist, love_letter_Playlist, silk_sheets_Playlist])\n",
    "rom_comb"
   ]
  },
  {
   "cell_type": "code",
   "execution_count": null,
   "id": "eb430542",
   "metadata": {},
   "outputs": [],
   "source": [
    "rom_vibes_no_dupes = rom_comb.drop_duplicates(subset=['Track_ID'], keep='first')\n",
    "rom_vibes_no_dupes"
   ]
  },
  {
   "cell_type": "code",
   "execution_count": null,
   "id": "d11c2a66",
   "metadata": {},
   "outputs": [],
   "source": [
    "Romance_Vibes = rom_vibes_no_dupes[0:200]\n",
    "Romance_Vibes "
   ]
  },
  {
   "cell_type": "code",
   "execution_count": null,
   "id": "f1782710",
   "metadata": {},
   "outputs": [],
   "source": [
    "Romance_Vibes.to_csv('romance_vibes.csv')"
   ]
  },
  {
   "cell_type": "markdown",
   "id": "415c45a2",
   "metadata": {},
   "source": [
    "### Confident Vibes\n",
    "#### Note: Even with three playlists, I did not have 200 tracks for the confidence category. However, it's close enough to 200 that I'm not worried about it being that big of a deal. "
   ]
  },
  {
   "cell_type": "code",
   "execution_count": null,
   "id": "350011dc",
   "metadata": {},
   "outputs": [],
   "source": [
    "walk_like_a_badass_id = 'spotify:playlist:37i9dQZF1DX1tyCD9QhIWF'\n",
    "badass_tracks = get_trackids(walk_like_a_badass_id)\n",
    "badass_tracks_info = playlist_info(badass_tracks)\n",
    "badass_playlist = pd.DataFrame(badass_tracks_info, columns = ['Name', \"Track_ID\", \"Album\", \"Artist\", \"Artist_ID\", \"Artist_Genre\", \"Duration_ms\", \"Popularity\", \"Explicit\", \"Danceability\", \"Energy\", \"Key\", \"Loudness\", \"Mode\", \"Speechiness\", \"Acousticness\", \"Instrumentalness\", \"Liveness\", \"Valence\", \"Tempo\"])\n",
    "badass_playlist['Playlist'] = 'Walk_Like_A_Badass'\n",
    "badass_playlist"
   ]
  },
  {
   "cell_type": "code",
   "execution_count": null,
   "id": "554d2268",
   "metadata": {},
   "outputs": [],
   "source": [
    "feelin_myself_id = 'spotify:playlist:37i9dQZF1DX6GwdWRQMQpq'\n",
    "feelin_myself_tracks = get_trackids(feelin_myself_id)\n",
    "feelin_myself_tracks_info = playlist_info(feelin_myself_tracks)\n",
    "feelin_myself_playlist = pd.DataFrame(feelin_myself_tracks_info, columns = ['Name', \"Track_ID\", \"Album\", \"Artist\", \"Artist_ID\", \"Artist_Genre\", \"Duration_ms\", \"Popularity\", \"Explicit\", \"Danceability\", \"Energy\", \"Key\", \"Loudness\", \"Mode\", \"Speechiness\", \"Acousticness\", \"Instrumentalness\", \"Liveness\", \"Valence\", \"Tempo\"])\n",
    "feelin_myself_playlist['Playlist'] = \"Feelin'_Myself\"\n",
    "feelin_myself_playlist"
   ]
  },
  {
   "cell_type": "code",
   "execution_count": null,
   "id": "68cb8fa5",
   "metadata": {},
   "outputs": [],
   "source": [
    "bbe_id = 'spotify:playlist:37i9dQZF1DX66m4icL86Ru'\n",
    "bbe_tracks = get_trackids(bbe_id)\n",
    "bbe_tracks_info = playlist_info(bbe_tracks)\n",
    "bbe_playlist = pd.DataFrame(bbe_tracks_info, columns = ['Name', \"Track_ID\", \"Album\", \"Artist\", \"Artist_ID\", \"Artist_Genre\", \"Duration_ms\", \"Popularity\", \"Explicit\", \"Danceability\", \"Energy\", \"Key\", \"Loudness\", \"Mode\", \"Speechiness\", \"Acousticness\", \"Instrumentalness\", \"Liveness\", \"Valence\", \"Tempo\"])\n",
    "bbe_playlist['Playlist'] = \"BBE\"\n",
    "bbe_playlist"
   ]
  },
  {
   "cell_type": "code",
   "execution_count": null,
   "id": "45ae5d28",
   "metadata": {},
   "outputs": [],
   "source": [
    "conf_comb = pd.concat([bbe_playlist, feelin_myself_playlist, badass_playlist])\n",
    "conf_comb"
   ]
  },
  {
   "cell_type": "code",
   "execution_count": null,
   "id": "7b485da1",
   "metadata": {},
   "outputs": [],
   "source": [
    "conf_vibes = conf_comb.drop_duplicates(subset=['Track_ID'], keep='first')\n",
    "conf_vibes"
   ]
  },
  {
   "cell_type": "code",
   "execution_count": null,
   "id": "45d7f94a",
   "metadata": {},
   "outputs": [],
   "source": [
    "conf_vibes.to_csv('confidence_vibes.csv')"
   ]
  }
 ],
 "metadata": {
  "kernelspec": {
   "display_name": "Python 3 (ipykernel)",
   "language": "python",
   "name": "python3"
  },
  "language_info": {
   "codemirror_mode": {
    "name": "ipython",
    "version": 3
   },
   "file_extension": ".py",
   "mimetype": "text/x-python",
   "name": "python",
   "nbconvert_exporter": "python",
   "pygments_lexer": "ipython3",
   "version": "3.9.12"
  }
 },
 "nbformat": 4,
 "nbformat_minor": 5
}
